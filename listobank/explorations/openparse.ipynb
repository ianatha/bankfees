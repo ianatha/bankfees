{
 "cells": [
  {
   "cell_type": "code",
   "execution_count": null,
   "id": "0098005a",
   "metadata": {},
   "outputs": [],
   "source": [
    "import openparse\n",
    "import fasttext\n",
    "from huggingface_hub import hf_hub_download\n",
    "\n",
    "# path = hf_hub_download(\"facebook/fasttext-el-vectors\", \"model.bin\")\n",
    "# model = fasttext.load_model(path)\n",
    "# vec = model.get_word_vector(\"καλημέρα\")\n",
    "\n",
    "basic_doc_path = \"../pricelists/nbg-loans.pdf\"\n",
    "print(\"Initializing DocumentParser with custom table arguments...\")\n",
    "parser = openparse.DocumentParser(\n",
    "\tprocessing_pipeline=openparse.processing.BasicIngestionPipeline(),\n",
    "\ttable_args={\n",
    "\t\t\"table_output_format\": \"markdown\",\n",
    "\t\t\"parsing_algorithm\": \"table-transformers\",\n",
    "  #       # unitable doesn't work with Greek ocr\n",
    "\t\t\"min_table_confidence\": 0.8,\n",
    "\t},\n",
    ")\n",
    "# parser._verbose = True\n",
    "print(\"Parsing document:\", basic_doc_path)\n",
    "parsed_basic_doc = parser.parse(basic_doc_path)\n",
    "print(\"Parsing completed.\")\n",
    "\n",
    "print()\n",
    "print()\n",
    "print(\"number of nodes:\", len(parsed_basic_doc.nodes))\n",
    "print()\n",
    "i=0\n",
    "nodes=parsed_basic_doc.nodes"
   ]
  }
 ],
 "metadata": {
  "language_info": {
   "name": "python"
  }
 },
 "nbformat": 4,
 "nbformat_minor": 5
}
